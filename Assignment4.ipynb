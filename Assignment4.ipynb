{
  "cells": [
    {
      "cell_type": "markdown",
      "metadata": {
        "id": "view-in-github",
        "colab_type": "text"
      },
      "source": [
        "<a href=\"https://colab.research.google.com/github/alexallen7/AH2179/blob/main/Assignment4.ipynb\" target=\"_parent\"><img src=\"https://colab.research.google.com/assets/colab-badge.svg\" alt=\"Open In Colab\"/></a>"
      ]
    },
    {
      "cell_type": "code",
      "execution_count": null,
      "metadata": {
        "id": "5nLw-glnRMJf",
        "colab": {
          "base_uri": "https://localhost:8080/"
        },
        "outputId": "5055b13e-6739-42c2-d6b0-096d1e825126"
      },
      "outputs": [
        {
          "output_type": "stream",
          "name": "stderr",
          "text": [
            "/usr/local/lib/python3.10/dist-packages/keras/src/layers/core/dense.py:87: UserWarning: Do not pass an `input_shape`/`input_dim` argument to a layer. When using Sequential models, prefer using an `Input(shape)` object as the first layer in the model instead.\n",
            "  super().__init__(activity_regularizer=activity_regularizer, **kwargs)\n"
          ]
        },
        {
          "output_type": "stream",
          "name": "stdout",
          "text": [
            "\u001b[1m32/32\u001b[0m \u001b[32m━━━━━━━━━━━━━━━━━━━━\u001b[0m\u001b[37m\u001b[0m \u001b[1m1s\u001b[0m 15ms/step\n",
            "Mean Absolute Error: 28.19589616964531\n",
            "Mean Squared Error: 1368.412722717461\n",
            "R-squared: 0.910213828086853\n"
          ]
        }
      ],
      "source": [
        "import pandas as pd\n",
        "from sklearn.model_selection import train_test_split\n",
        "%matplotlib inline\n",
        "import matplotlib.pyplot as plt\n",
        "import seaborn as sns\n",
        "from tensorflow.keras.models import Sequential\n",
        "from tensorflow.keras.layers import Dense\n",
        "from tensorflow.keras.layers import Dropout\n",
        "from tensorflow.keras.callbacks import EarlyStopping, ReduceLROnPlateau, ModelCheckpoint\n",
        "from keras.models import load_model\n",
        "from sklearn.linear_model import LinearRegression\n",
        "filepath=\"\"\n",
        "from sklearn.metrics import mean_absolute_error, mean_squared_error, r2_score\n",
        "\n",
        "#-------------------------------------------------data preprocessing------------------------------------------------------------------\n",
        "\n",
        "# Define the URL of a CSV file containing data.\n",
        "url = 'https://raw.githubusercontent.com/zhenliangma/Applied-AI-in-Transportation/master/Exercise_7_Neural_networks/Exercise7data.csv'\n",
        "\n",
        "# Read the CSV data from the specified URL into a DataFrame (assuming you have the pandas library imported as 'pd').\n",
        "df = pd.read_csv(url)\n",
        "\n",
        "# Limit the DataFrame to the first 1000 rows (selecting a subset of the data).\n",
        "df = df.iloc[:1000]\n",
        "\n",
        "# Drop specific columns (Arrival_time, Stop_id, Bus_id, Line_id) from the DataFrame.\n",
        "df = df.drop(['Arrival_time', 'Stop_id', 'Bus_id', 'Line_id'], axis=1)\n",
        "\n",
        "# Extract the features (input variables) by dropping the 'Arrival_delay' column.\n",
        "x = df.drop(['Arrival_delay'], axis=1)\n",
        "\n",
        "# Extract the target variable ('Arrival_delay') as the variable to predict.\n",
        "y = df['Arrival_delay']\n",
        "\n",
        "# splite the train and test data\n",
        "X_train, X_test, y_train, y_test = train_test_split(x, y, test_size=0.2, random_state=42)\n",
        "\n",
        "#-------------------------------------------------network construction------------------------------------------------------------------\n",
        "\n",
        "#************************************************Here you can change the layer to construct your network(add the dense layers, dropout layer, etc.)***************************\n",
        "# Create a Sequential model, which is a linear stack of layers.\n",
        "# Add a Dense layer with 32 units, ReLU activation, and an input dimension of 4.\n",
        "\n",
        "model.add(Dense(128, activation='relu', input_dim=4))\n",
        "\n",
        "model.add(Dropout(0.1))\n",
        "# Add another Dense layer with 64 units and ReLU activation.\n",
        "model.add(Dense(64, activation='relu'))\n",
        "model.add(Dropout(0.1))\n",
        "model.add(Dense(32))\n",
        "# Add a final Dense layer with 1 unit (typically used for regression tasks).\n",
        "model.add(Dense(1))\n",
        "\n",
        "\n",
        "\n",
        "\n",
        "# Compile the model with the Adam optimizer, Mean Absolute Error (MAE) loss function,\n",
        "# and MAE metric to be used during training.\n",
        "model.compile(optimizer='adam', loss='mae', metrics=['mae'])\n",
        "#************************************************Here you can change the layer to construct your network(add the layers, dropout layer, etc.)*****************\n",
        "\n",
        "#-------------------------------------------------model train------------------------------------------------------------------\n",
        "#************************************************Here you can use the callback function **************\n",
        "# use the callback function to early stop, learning rate ajusting, save the best model\n",
        "# Create an EarlyStopping callback to monitor the validation mean absolute error (val_mae).\n",
        "# It will stop training if val_mae doesn't improve for 5 consecutive epochs and restores the best weights.\n",
        "early_stop = EarlyStopping(monitor='val_mae', patience=5, restore_best_weights=True)\n",
        "\n",
        "# Create a ReduceLROnPlateau callback to monitor val_mae.\n",
        "# It reduces the learning rate by a factor of 0.5 if val_mae doesn't improve for 3 consecutive epochs.\n",
        "reduce_lr = ReduceLROnPlateau(monitor='val_mae', factor=0.5, patience=3)\n",
        "\n",
        "# Define the file path where the best model weights will be saved.\n",
        "filepath = \"weights.best.h5.keras\"\n",
        "# Create a ModelCheckpoint callback to monitor the validation mae (val_mae).\n",
        "# The callback will save the model's weights only if the validation mae improves.\n",
        "checkpoint = ModelCheckpoint(filepath, monitor='val_mae', verbose=0, save_best_only=True, mode='min')\n",
        "\n",
        "# Train the model using the fit method.\n",
        "hist = model.fit(X_train, y_train, validation_split=0.2, epochs=200, batch_size=32,callbacks=[early_stop, reduce_lr,checkpoint],verbose=0)\n",
        "\n",
        "#************************************************Here you can choose to use the callback function *************\n",
        "\n",
        "# Set the style of the plots using seaborn.\n",
        "sns.set()\n",
        "\n",
        "# Extract the training and validation Mean Absolute Error (MAE) from the training history.\n",
        "err = hist.history['mae']\n",
        "val_err = hist.history['val_mae']\n",
        "\n",
        "# Define the number of epochs.\n",
        "epochs = range(1, len(err) + 1)\n",
        "\n",
        "# Plot the Training MAE and Validation MAE over epochs.\n",
        "\"\"\"\n",
        "plt.plot(epochs, err, '-', label='Training MAE')\n",
        "plt.plot(epochs, val_err, ':', label='Validation MAE')\n",
        "plt.title('Training and Validation MAE')\n",
        "plt.xlabel('Epoch')\n",
        "plt.ylabel('Mean Absolute Error')\n",
        "plt.legend(loc='upper right')\n",
        "plt.plot()\n",
        "\"\"\"\n",
        "# Use the trained model to predict on the test data.\n",
        "y_pred = model.predict(X_test)\n",
        "\n",
        "# Calculate Mean Absolute Error (MAE), Mean Squared Error (MSE), and R-squared (R2) for the predictions.\n",
        "mae = mean_absolute_error(y_test, y_pred)\n",
        "mse = mean_squared_error(y_test, y_pred)\n",
        "r2 = r2_score(y_test, y_pred)\n",
        "\n",
        "# Print the evaluation metrics.\n",
        "print(f\"Mean Absolute Error: {mae}\")\n",
        "print(f\"Mean Squared Error: {mse}\")\n",
        "print(f\"R-squared: {r2}\")\n"
      ]
    },
    {
      "cell_type": "code",
      "source": [],
      "metadata": {
        "id": "a_9TUPK3Pd1o"
      },
      "execution_count": null,
      "outputs": []
    },
    {
      "cell_type": "code",
      "source": [
        "2"
      ],
      "metadata": {
        "id": "mnxHCSDJRTL9"
      },
      "execution_count": null,
      "outputs": []
    },
    {
      "cell_type": "code",
      "source": [],
      "metadata": {
        "id": "Y8XdVZ_uGlx8"
      },
      "execution_count": null,
      "outputs": []
    }
  ],
  "metadata": {
    "colab": {
      "provenance": [],
      "collapsed_sections": [
        "nbJz5TA3JyBC",
        "oGcXA3loalhv"
      ],
      "include_colab_link": true
    },
    "kernelspec": {
      "display_name": "Python 3",
      "name": "python3"
    },
    "language_info": {
      "name": "python"
    }
  },
  "nbformat": 4,
  "nbformat_minor": 0
}